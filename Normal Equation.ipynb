{
 "cells": [
  {
   "cell_type": "code",
   "execution_count": 1,
   "metadata": {},
   "outputs": [
    {
     "name": "stdout",
     "output_type": "stream",
     "text": [
      "Type of X_train: <class 'numpy.ndarray'> Shape of X_train: (400, 14)\n",
      "Type of X_test: <class 'numpy.ndarray'> Shape of X_test: (106, 14)\n"
     ]
    }
   ],
   "source": [
    "#Multiple Linear Regression using Normal Equation Method\n",
    "import numpy as np\n",
    "from sklearn import datasets, metrics\n",
    "from numpy.linalg import inv, pinv, LinAlgError  #Librabries to perform linear algebra applications\n",
    "\n",
    "X, y = datasets.load_boston(return_X_y=True)  #Load the Boston Housing Price Dataset From sklearn library\n",
    "                                                        \n",
    "X_train_temp1=X[0:400,:]  #To separate 506 data points into 400  for training and 106 for test set.\n",
    "X_train=np.zeros((X_train_temp1.shape[0],X_train_temp1.shape[1]+1))\n",
    "X_train[:,0]=np.ones((X_train_temp1.shape[0]))\n",
    "X_train[:,1:]=X_train_temp1\n",
    "print(\"Type of X_train:\", type(X_train), \"Shape of X_train:\", X_train.shape)\n",
    "\n",
    "y_train=y[0:400]\n",
    "\n",
    "X_test_temp1=X[400:506,:]\n",
    "X_test=np.zeros((X_test_temp1.shape[0],X_test_temp1.shape[1]+1))\n",
    "X_test[:,0]=np.ones((X_test_temp1.shape[0]))\n",
    "X_test[:,1:]=X_test_temp1\n",
    "print(\"Type of X_test:\", type(X_test), \"Shape of X_test:\", X_test.shape)\n",
    "\n",
    "\n",
    "y_test=y[400:506]"
   ]
  },
  {
   "cell_type": "code",
   "execution_count": 2,
   "metadata": {},
   "outputs": [
    {
     "name": "stdout",
     "output_type": "stream",
     "text": [
      "Thetas: [ 2.86725996e+01 -1.91246374e-01  4.42289967e-02  5.52207977e-02\n",
      "  1.71631351e+00 -1.49957220e+01  4.88773025e+00  2.60921031e-03\n",
      " -1.29480799e+00  4.84787214e-01 -1.54006673e-02 -8.08795026e-01\n",
      " -1.29230427e-03 -5.17953791e-01]\n",
      "Thetas Shape: (14,)\n",
      "MAE: 5.142232214465111\n",
      "MSE: 37.893778599598164\n"
     ]
    }
   ],
   "source": [
    "theta=np.zeros(X_train.shape[1])\n",
    "\n",
    "try:\n",
    "    XTXi=inv(np.dot(X_train.T,X_train))\n",
    "except LinAlgError:\n",
    "    XTXi=pinv(np.dot(X_train.T,X_train))\n",
    "\n",
    "XTy=np.dot(X_train.T,y_train)    \n",
    "\n",
    "theta=np.dot(XTXi,XTy)\n",
    "\n",
    "print(\"Thetas:\", theta)\n",
    "print(\"Thetas Shape:\", theta.shape)   \n",
    "\n",
    "predictions=np.dot(theta,X_test.T)\n",
    "\n",
    "print(\"MAE:\", metrics.mean_absolute_error(y_true=y_test,y_pred=predictions))\n",
    "print(\"MSE:\", metrics.mean_squared_error(y_true=y_test,y_pred=predictions))"
   ]
  },
  {
   "cell_type": "code",
   "execution_count": null,
   "metadata": {},
   "outputs": [],
   "source": []
  }
 ],
 "metadata": {
  "kernelspec": {
   "display_name": "Python 3",
   "language": "python",
   "name": "python3"
  },
  "language_info": {
   "codemirror_mode": {
    "name": "ipython",
    "version": 3
   },
   "file_extension": ".py",
   "mimetype": "text/x-python",
   "name": "python",
   "nbconvert_exporter": "python",
   "pygments_lexer": "ipython3",
   "version": "3.6.2"
  }
 },
 "nbformat": 4,
 "nbformat_minor": 2
}
