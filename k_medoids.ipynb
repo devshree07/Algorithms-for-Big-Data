{
 "cells": [
  {
   "cell_type": "markdown",
   "metadata": {},
   "source": [
    "# Importing Libraries"
   ]
  },
  {
   "cell_type": "code",
   "execution_count": 52,
   "metadata": {},
   "outputs": [],
   "source": [
    "import pandas as pd   \n",
    "import numpy as np\n",
    "import matplotlib.pyplot as plt\n",
    "from sklearn import datasets"
   ]
  },
  {
   "cell_type": "markdown",
   "metadata": {},
   "source": [
    "# Loading the dataset"
   ]
  },
  {
   "cell_type": "code",
   "execution_count": 53,
   "metadata": {},
   "outputs": [],
   "source": [
    "iris = datasets.load_iris()  #loading iris dataset\n",
    "data = pd.DataFrame(iris.data,columns = iris.feature_names)   #Converting data to a dataframe\n",
    "\n",
    "target = iris.target_names  #storing target names\n",
    "labels = iris.target  #storing target\n"
   ]
  },
  {
   "cell_type": "code",
   "execution_count": 54,
   "metadata": {},
   "outputs": [
    {
     "data": {
      "text/html": [
       "<div>\n",
       "<style scoped>\n",
       "    .dataframe tbody tr th:only-of-type {\n",
       "        vertical-align: middle;\n",
       "    }\n",
       "\n",
       "    .dataframe tbody tr th {\n",
       "        vertical-align: top;\n",
       "    }\n",
       "\n",
       "    .dataframe thead th {\n",
       "        text-align: right;\n",
       "    }\n",
       "</style>\n",
       "<table border=\"1\" class=\"dataframe\">\n",
       "  <thead>\n",
       "    <tr style=\"text-align: right;\">\n",
       "      <th></th>\n",
       "      <th>sepal length (cm)</th>\n",
       "      <th>sepal width (cm)</th>\n",
       "      <th>petal length (cm)</th>\n",
       "      <th>petal width (cm)</th>\n",
       "    </tr>\n",
       "  </thead>\n",
       "  <tbody>\n",
       "    <tr>\n",
       "      <th>0</th>\n",
       "      <td>5.1</td>\n",
       "      <td>3.5</td>\n",
       "      <td>1.4</td>\n",
       "      <td>0.2</td>\n",
       "    </tr>\n",
       "    <tr>\n",
       "      <th>1</th>\n",
       "      <td>4.9</td>\n",
       "      <td>3.0</td>\n",
       "      <td>1.4</td>\n",
       "      <td>0.2</td>\n",
       "    </tr>\n",
       "    <tr>\n",
       "      <th>2</th>\n",
       "      <td>4.7</td>\n",
       "      <td>3.2</td>\n",
       "      <td>1.3</td>\n",
       "      <td>0.2</td>\n",
       "    </tr>\n",
       "    <tr>\n",
       "      <th>3</th>\n",
       "      <td>4.6</td>\n",
       "      <td>3.1</td>\n",
       "      <td>1.5</td>\n",
       "      <td>0.2</td>\n",
       "    </tr>\n",
       "    <tr>\n",
       "      <th>4</th>\n",
       "      <td>5.0</td>\n",
       "      <td>3.6</td>\n",
       "      <td>1.4</td>\n",
       "      <td>0.2</td>\n",
       "    </tr>\n",
       "    <tr>\n",
       "      <th>...</th>\n",
       "      <td>...</td>\n",
       "      <td>...</td>\n",
       "      <td>...</td>\n",
       "      <td>...</td>\n",
       "    </tr>\n",
       "    <tr>\n",
       "      <th>145</th>\n",
       "      <td>6.7</td>\n",
       "      <td>3.0</td>\n",
       "      <td>5.2</td>\n",
       "      <td>2.3</td>\n",
       "    </tr>\n",
       "    <tr>\n",
       "      <th>146</th>\n",
       "      <td>6.3</td>\n",
       "      <td>2.5</td>\n",
       "      <td>5.0</td>\n",
       "      <td>1.9</td>\n",
       "    </tr>\n",
       "    <tr>\n",
       "      <th>147</th>\n",
       "      <td>6.5</td>\n",
       "      <td>3.0</td>\n",
       "      <td>5.2</td>\n",
       "      <td>2.0</td>\n",
       "    </tr>\n",
       "    <tr>\n",
       "      <th>148</th>\n",
       "      <td>6.2</td>\n",
       "      <td>3.4</td>\n",
       "      <td>5.4</td>\n",
       "      <td>2.3</td>\n",
       "    </tr>\n",
       "    <tr>\n",
       "      <th>149</th>\n",
       "      <td>5.9</td>\n",
       "      <td>3.0</td>\n",
       "      <td>5.1</td>\n",
       "      <td>1.8</td>\n",
       "    </tr>\n",
       "  </tbody>\n",
       "</table>\n",
       "<p>150 rows × 4 columns</p>\n",
       "</div>"
      ],
      "text/plain": [
       "     sepal length (cm)  sepal width (cm)  petal length (cm)  petal width (cm)\n",
       "0                  5.1               3.5                1.4               0.2\n",
       "1                  4.9               3.0                1.4               0.2\n",
       "2                  4.7               3.2                1.3               0.2\n",
       "3                  4.6               3.1                1.5               0.2\n",
       "4                  5.0               3.6                1.4               0.2\n",
       "..                 ...               ...                ...               ...\n",
       "145                6.7               3.0                5.2               2.3\n",
       "146                6.3               2.5                5.0               1.9\n",
       "147                6.5               3.0                5.2               2.0\n",
       "148                6.2               3.4                5.4               2.3\n",
       "149                5.9               3.0                5.1               1.8\n",
       "\n",
       "[150 rows x 4 columns]"
      ]
     },
     "execution_count": 54,
     "metadata": {},
     "output_type": "execute_result"
    }
   ],
   "source": [
    "data  #displaying data"
   ]
  },
  {
   "cell_type": "markdown",
   "metadata": {},
   "source": [
    "# Storing data and target"
   ]
  },
  {
   "cell_type": "code",
   "execution_count": 55,
   "metadata": {},
   "outputs": [],
   "source": [
    "X = iris['data']   #storing features in X\n",
    "y = iris['target']   #storing target in y\n",
    "m, n = X.shape   #Taking shape of data matrix\n",
    "k = 3   #number of clusters"
   ]
  },
  {
   "cell_type": "markdown",
   "metadata": {},
   "source": [
    "<center> Defining the input </center>"
   ]
  },
  {
   "attachments": {
    "image.png": {
     "image/png": "[encoded data removed]"
    }
   },
   "cell_type": "markdown",
   "metadata": {},
   "source": [
    "![image.png](attachment:image.png)"
   ]
  },
  {
   "cell_type": "markdown",
   "metadata": {},
   "source": [
    "# Plotting the data points"
   ]
  },
  {
   "cell_type": "code",
   "execution_count": 56,
   "metadata": {},
   "outputs": [
    {
     "data": {
      "text/plain": [
       "<matplotlib.collections.PathCollection at 0x7fa57c81cc10>"
      ]
     },
     "execution_count": 56,
     "metadata": {},
     "output_type": "execute_result"
    },
    {
     "data": {
      "image/png": "[encoded data removed]",
      "text/plain": [
       "<Figure size 432x288 with 1 Axes>"
      ]
     },
     "metadata": {
      "needs_background": "light"
     },
     "output_type": "display_data"
    }
   ],
   "source": [
    "#plotting the initial data\n",
    "plt.scatter(X[:, 0], X[:,1], s=7, color = 'black')"
   ]
  },
  {
   "cell_type": "markdown",
   "metadata": {},
   "source": [
    "# Initialising the medoids"
   ]
  },
  {
   "cell_type": "code",
   "execution_count": 57,
   "metadata": {},
   "outputs": [],
   "source": [
    "#Function is used to randomly initialise the medoids initially\n",
    "def initialise_medoids(X,rseed,k):\n",
    "    val = np.random.RandomState(rseed)  #Generating random number\n",
    "    i = val.permutation(X.shape[0])[:k]   #Computing indices randomly\n",
    "    medoids_initial = X[i]   #assigning the initial medoids\n",
    "    return medoids_initial\n",
    "\n",
    "medoids_initial = initialise_medoids(X,2, 3)   #calling the function"
   ]
  },
  {
   "cell_type": "code",
   "execution_count": 58,
   "metadata": {},
   "outputs": [
    {
     "data": {
      "text/plain": [
       "array([[4.6, 3.4, 1.4, 0.3],\n",
       "       [4.6, 3.1, 1.5, 0.2],\n",
       "       [5.7, 2.5, 5. , 2. ]])"
      ]
     },
     "execution_count": 58,
     "metadata": {},
     "output_type": "execute_result"
    }
   ],
   "source": [
    "medoids_initial  #displaying initial medoids"
   ]
  },
  {
   "cell_type": "markdown",
   "metadata": {},
   "source": [
    "# Calculating distance of data points from medoids"
   ]
  },
  {
   "cell_type": "code",
   "execution_count": 59,
   "metadata": {},
   "outputs": [],
   "source": [
    "def compute_distance(X, medoids):\n",
    "    m = len(X)  #taking length of input data\n",
    "    medoids_shape = medoids.shape  #taking shape of medoids\n",
    "    \n",
    "    #condition for reshaping the shape of medoids\n",
    "    if len(medoids_shape) == 1: \n",
    "        medoids = medoids.reshape((1,len(medoids)))\n",
    "    k = len(medoids)\n",
    "    \n",
    "    #creating an empty array of dimensions m,k\n",
    "    S = np.empty((m, k))\n",
    "    \n",
    "    #calculating squared distance of all datapoints from the computed medoids\n",
    "    for i in range(m):\n",
    "        dist = np.linalg.norm(X[i, :] - medoids, axis=1)\n",
    "        S[i, :] = dist**2\n",
    "\n",
    "    return S\n",
    "  \n",
    "S = compute_distance(X, medoids_initial)  #Calling the function\n"
   ]
  },
  {
   "cell_type": "code",
   "execution_count": 60,
   "metadata": {},
   "outputs": [
    {
     "data": {
      "text/plain": [
       "array([[2.700e-01, 4.200e-01, 1.756e+01],\n",
       "       [2.600e-01, 1.100e-01, 1.709e+01],\n",
       "       [7.000e-02, 6.000e-02, 1.842e+01],\n",
       "       [1.100e-01, 0.000e+00, 1.706e+01],\n",
       "       [2.100e-01, 4.200e-01, 1.790e+01],\n",
       "       [9.900e-01, 1.360e+00, 1.550e+01],\n",
       "       [0.000e+00, 1.100e-01, 1.787e+01],\n",
       "       [1.800e-01, 2.500e-01, 1.679e+01],\n",
       "       [3.000e-01, 9.000e-02, 1.805e+01],\n",
       "       [2.300e-01, 1.000e-01, 1.686e+01],\n",
       "       [7.500e-01, 1.000e+00, 1.702e+01],\n",
       "       [9.000e-02, 1.400e-01, 1.642e+01],\n",
       "       [2.400e-01, 7.000e-02, 1.763e+01],\n",
       "       [3.800e-01, 2.700e-01, 2.103e+01],\n",
       "       [1.850e+00, 2.340e+00, 1.994e+01],\n",
       "       [2.230e+00, 2.940e+00, 1.842e+01],\n",
       "       [9.100e-01, 1.360e+00, 1.830e+01],\n",
       "       [2.600e-01, 4.300e-01, 1.721e+01],\n",
       "       [1.460e+00, 1.750e+00, 1.547e+01],\n",
       "       [4.200e-01, 7.500e-01, 1.719e+01],\n",
       "       [7.400e-01, 7.700e-01, 1.503e+01],\n",
       "       [3.600e-01, 6.500e-01, 1.661e+01],\n",
       "       [2.100e-01, 5.000e-01, 2.166e+01],\n",
       "       [3.900e-01, 4.200e-01, 1.414e+01],\n",
       "       [3.000e-01, 2.900e-01, 1.447e+01],\n",
       "       [3.700e-01, 1.800e-01, 1.554e+01],\n",
       "       [2.100e-01, 3.000e-01, 1.542e+01],\n",
       "       [3.900e-01, 5.200e-01, 1.674e+01],\n",
       "       [3.700e-01, 4.600e-01, 1.726e+01],\n",
       "       [1.000e-01, 3.000e-02, 1.629e+01],\n",
       "       [1.800e-01, 5.000e-02, 1.597e+01],\n",
       "       [6.600e-01, 7.700e-01, 1.571e+01],\n",
       "       [9.000e-01, 1.370e+00, 1.867e+01],\n",
       "       [1.460e+00, 2.030e+00, 1.913e+01],\n",
       "       [2.000e-01, 9.000e-02, 1.649e+01],\n",
       "       [2.500e-01, 2.600e-01, 1.866e+01],\n",
       "       [8.400e-01, 1.010e+00, 1.797e+01],\n",
       "       [1.700e-01, 3.600e-01, 1.842e+01],\n",
       "       [2.200e-01, 9.000e-02, 1.887e+01],\n",
       "       [2.700e-01, 3.400e-01, 1.666e+01],\n",
       "       [1.800e-01, 3.700e-01, 1.807e+01],\n",
       "       [1.230e+00, 7.000e-01, 1.806e+01],\n",
       "       [1.000e-01, 9.000e-02, 1.911e+01],\n",
       "       [3.000e-01, 4.900e-01, 1.501e+01],\n",
       "       [6.700e-01, 9.400e-01, 1.422e+01],\n",
       "       [2.000e-01, 7.000e-02, 1.691e+01],\n",
       "       [4.600e-01, 7.500e-01, 1.685e+01],\n",
       "       [5.000e-02, 2.000e-02, 1.790e+01],\n",
       "       [6.000e-01, 8.500e-01, 1.709e+01],\n",
       "       [1.800e-01, 2.100e-01, 1.733e+01],\n",
       "       [1.790e+01, 1.745e+01, 2.630e+00],\n",
       "       [1.433e+01, 1.394e+01, 1.480e+00],\n",
       "       [1.907e+01, 1.854e+01, 2.060e+00],\n",
       "       [9.780e+00, 8.910e+00, 1.570e+00],\n",
       "       [1.565e+01, 1.500e+01, 1.140e+00],\n",
       "       [1.218e+01, 1.151e+01, 8.300e-01],\n",
       "       [1.548e+01, 1.513e+01, 1.250e+00],\n",
       "       [5.190e+00, 4.460e+00, 4.540e+00],\n",
       "       [1.549e+01, 1.486e+01, 1.620e+00],\n",
       "       [8.310e+00, 7.720e+00, 1.860e+00],\n",
       "       [7.020e+00, 6.010e+00, 3.990e+00],\n",
       "       [1.113e+01, 1.068e+01, 1.180e+00],\n",
       "       [1.065e+01, 9.660e+00, 2.180e+00],\n",
       "       [1.460e+01, 1.397e+01, 7.700e-01],\n",
       "       [7.090e+00, 6.660e+00, 2.620e+00],\n",
       "       [1.471e+01, 1.426e+01, 2.080e+00],\n",
       "       [1.221e+01, 1.170e+01, 7.600e-01],\n",
       "       [9.710e+00, 9.000e+00, 1.860e+00],\n",
       "       [1.505e+01, 1.406e+01, 8.400e-01],\n",
       "       [8.700e+00, 7.930e+00, 2.030e+00],\n",
       "       [1.554e+01, 1.515e+01, 6.100e-01],\n",
       "       [1.037e+01, 9.800e+00, 1.740e+00],\n",
       "       [1.739e+01, 1.650e+01, 6.200e-01],\n",
       "       [1.431e+01, 1.358e+01, 9.800e-01],\n",
       "       [1.290e+01, 1.233e+01, 1.630e+00],\n",
       "       [1.437e+01, 1.386e+01, 1.780e+00],\n",
       "       [1.797e+01, 1.726e+01, 1.700e+00],\n",
       "       [1.949e+01, 1.892e+01, 1.340e+00],\n",
       "       [1.326e+01, 1.269e+01, 7.500e-01],\n",
       "       [6.750e+00, 6.100e+00, 3.260e+00],\n",
       "       [8.210e+00, 7.400e+00, 2.300e+00],\n",
       "       [7.590e+00, 6.780e+00, 2.740e+00],\n",
       "       [8.990e+00, 8.360e+00, 1.900e+00],\n",
       "       [1.783e+01, 1.704e+01, 3.000e-01],\n",
       "       [1.185e+01, 1.134e+01, 8.400e-01],\n",
       "       [1.326e+01, 1.301e+01, 1.310e+00],\n",
       "       [1.683e+01, 1.634e+01, 1.700e+00],\n",
       "       [1.410e+01, 1.315e+01, 1.250e+00],\n",
       "       [9.450e+00, 8.980e+00, 1.560e+00],\n",
       "       [9.380e+00, 8.630e+00, 1.530e+00],\n",
       "       [1.126e+01, 1.047e+01, 1.050e+00],\n",
       "       [1.386e+01, 1.331e+01, 9.300e-01],\n",
       "       [9.650e+00, 8.940e+00, 1.660e+00],\n",
       "       [5.470e+00, 4.680e+00, 4.420e+00],\n",
       "       [1.033e+01, 9.660e+00, 1.180e+00],\n",
       "       [1.002e+01, 9.510e+00, 1.530e+00],\n",
       "       [1.030e+01, 9.750e+00, 1.290e+00],\n",
       "       [1.222e+01, 1.165e+01, 1.390e+00],\n",
       "       [4.260e+00, 3.670e+00, 5.170e+00],\n",
       "       [9.860e+00, 9.270e+00, 1.390e+00],\n",
       "       [2.890e+01, 2.847e+01, 2.250e+00],\n",
       "       [1.818e+01, 1.745e+01, 7.000e-02],\n",
       "       [2.990e+01, 2.923e+01, 3.030e+00],\n",
       "       [2.303e+01, 2.230e+01, 9.200e-01],\n",
       "       [2.674e+01, 2.611e+01, 1.570e+00],\n",
       "       [3.944e+01, 3.863e+01, 6.430e+00],\n",
       "       [1.247e+01, 1.170e+01, 9.800e-01],\n",
       "       [3.380e+01, 3.293e+01, 4.450e+00],\n",
       "       [2.683e+01, 2.582e+01, 1.680e+00],\n",
       "       [3.373e+01, 3.346e+01, 4.920e+00],\n",
       "       [2.023e+01, 1.982e+01, 1.140e+00],\n",
       "       [2.150e+01, 2.073e+01, 6.300e-01],\n",
       "       [2.505e+01, 2.446e+01, 1.720e+00],\n",
       "       [1.787e+01, 1.706e+01, 0.000e+00],\n",
       "       [1.990e+01, 1.933e+01, 2.700e-01],\n",
       "       [2.249e+01, 2.210e+01, 1.160e+00],\n",
       "       [2.283e+01, 2.218e+01, 1.180e+00],\n",
       "       [4.147e+01, 4.114e+01, 8.620e+00],\n",
       "       [4.450e+01, 4.343e+01, 7.710e+00],\n",
       "       [1.780e+01, 1.671e+01, 4.300e-01],\n",
       "       [2.782e+01, 2.735e+01, 2.510e+00],\n",
       "       [1.650e+01, 1.589e+01, 1.100e-01],\n",
       "       [4.095e+01, 3.998e+01, 6.980e+00],\n",
       "       [1.788e+01, 1.717e+01, 4.500e-01],\n",
       "       [2.615e+01, 2.570e+01, 2.140e+00],\n",
       "       [3.021e+01, 2.958e+01, 3.780e+00],\n",
       "       [1.673e+01, 1.610e+01, 4.200e-01],\n",
       "       [1.691e+01, 1.638e+01, 4.600e-01],\n",
       "       [2.448e+01, 2.375e+01, 9.500e-01],\n",
       "       [2.797e+01, 2.722e+01, 3.300e+00],\n",
       "       [3.285e+01, 3.198e+01, 4.200e+00],\n",
       "       [3.894e+01, 3.863e+01, 8.490e+00],\n",
       "       [2.485e+01, 2.414e+01, 9.800e-01],\n",
       "       [1.838e+01, 1.763e+01, 7.100e-01],\n",
       "       [2.174e+01, 2.075e+01, 8.900e-01],\n",
       "       [3.586e+01, 3.519e+01, 5.550e+00],\n",
       "       [2.494e+01, 2.463e+01, 1.690e+00],\n",
       "       [2.239e+01, 2.180e+01, 1.140e+00],\n",
       "       [1.593e+01, 1.542e+01, 4.200e-01],\n",
       "       [2.462e+01, 2.411e+01, 1.970e+00],\n",
       "       [2.655e+01, 2.606e+01, 1.880e+00],\n",
       "       [2.307e+01, 2.266e+01, 1.900e+00],\n",
       "       [1.818e+01, 1.745e+01, 7.000e-02],\n",
       "       [2.913e+01, 2.862e+01, 2.600e+00],\n",
       "       [2.775e+01, 2.738e+01, 2.380e+00],\n",
       "       [2.301e+01, 2.252e+01, 1.380e+00],\n",
       "       [1.922e+01, 1.839e+01, 3.700e-01],\n",
       "       [2.110e+01, 2.055e+01, 9.300e-01],\n",
       "       [2.256e+01, 2.227e+01, 1.310e+00],\n",
       "       [1.779e+01, 1.722e+01, 3.400e-01]])"
      ]
     },
     "execution_count": 60,
     "metadata": {},
     "output_type": "execute_result"
    }
   ],
   "source": [
    "S"
   ]
  },
  {
   "cell_type": "markdown",
   "metadata": {},
   "source": [
    "# Assigning labels to data points "
   ]
  },
  {
   "cell_type": "code",
   "execution_count": 61,
   "metadata": {},
   "outputs": [],
   "source": [
    "#Assign labels to data points according to the minimum distance with the medoids\n",
    "def assign_labels(S):\n",
    "    return np.argmin(S, axis=1)\n",
    "  \n",
    "labels = assign_labels(S)  #calling function"
   ]
  },
  {
   "cell_type": "markdown",
   "metadata": {},
   "source": [
    "# Updating medoids "
   ]
  },
  {
   "cell_type": "code",
   "execution_count": 62,
   "metadata": {},
   "outputs": [],
   "source": [
    "#function to update the medoids\n",
    "def update_medoids(X, medoids):\n",
    "    \n",
    "    S = compute_distance(X, medoids)  #computing distance\n",
    "    labels = assign_labels(S)   #assigning labels\n",
    "        \n",
    "    out_medoids = medoids\n",
    "                \n",
    "    for i in set(labels):\n",
    "        \n",
    "        avg_dissimilarity = np.sum(compute_distance(X, medoids[i]))  #calculating the average dissimilarity by summing over all the distances\n",
    "\n",
    "        cluster_points = X[labels == i]  #Assigning cluster points\n",
    "        \n",
    "        for datap in cluster_points:  #checking for a data point in the cluster points\n",
    "            new_medoid = datap\n",
    "            new_dissimilarity= np.sum(compute_distance(X, datap))  #calculating the new dissimilarity\n",
    "            \n",
    "            #condition to update the value of average dissimilarity\n",
    "            if new_dissimilarity < avg_dissimilarity :\n",
    "                avg_dissimilarity = new_dissimilarity\n",
    "                \n",
    "                out_medoids[i] = datap\n",
    "                \n",
    "    return out_medoids"
   ]
  },
  {
   "cell_type": "markdown",
   "metadata": {},
   "source": [
    "# Setting condition for convergence"
   ]
  },
  {
   "cell_type": "code",
   "execution_count": 63,
   "metadata": {},
   "outputs": [],
   "source": [
    "#function to set the condition for convergence by comparing the values of old medoids and new medoids\n",
    "def has_converged(old_medoids, medoids):\n",
    "    return set([tuple(x) for x in old_medoids]) == set([tuple(x) for x in medoids])"
   ]
  },
  {
   "cell_type": "markdown",
   "metadata": {},
   "source": [
    "<center> Algorithm for computing k medoids </center>"
   ]
  },
  {
   "attachments": {
    "image.png": {
     "image/png": "[encoded data removed]"
    }
   },
   "cell_type": "markdown",
   "metadata": {},
   "source": [
    "![image.png](attachment:image.png)"
   ]
  },
  {
   "cell_type": "markdown",
   "metadata": {},
   "source": [
    "# k medoids procedure"
   ]
  },
  {
   "cell_type": "code",
   "execution_count": 64,
   "metadata": {},
   "outputs": [],
   "source": [
    "#function to compute k medoids\n",
    "def kmedoids(X, k, starting_medoids=None, max_steps=np.inf):\n",
    "    \n",
    "    #condition for setting the initial values of medoids\n",
    "    if starting_medoids is None:\n",
    "        medoids = initialise_medoids(X,2, k)\n",
    "    else:\n",
    "        medoids = starting_medoids\n",
    "    \n",
    "    #setting the converged variable initially to false\n",
    "    converged = False\n",
    "    labels = np.zeros(len(X))\n",
    "    i = 1\n",
    "    \n",
    "    #loop the till the condition of convergence is not met\n",
    "    while (not converged) and (i <= max_steps):\n",
    "        old_medoids = medoids.copy()  #copying old medoids\n",
    "        \n",
    "        S = compute_distance(X, medoids)  #computing distance \n",
    "        \n",
    "        labels = assign_labels(S)  #assigning labels\n",
    "        \n",
    "        medoids = update_medoids(X, medoids)   #updating medoids\n",
    "        \n",
    "        converged = has_converged(old_medoids, medoids)  #getting the value of converged\n",
    "        i += 1\n",
    "    return (medoids,labels)\n",
    "\n",
    "#getting the results\n",
    "results = kmedoids(X, 3)\n",
    "final_medoids = results[0]\n",
    "data['clusters'] = results[1]\n"
   ]
  },
  {
   "cell_type": "code",
   "execution_count": 65,
   "metadata": {},
   "outputs": [
    {
     "data": {
      "text/plain": [
       "(array([[5.1, 3.8, 1.9, 0.4],\n",
       "        [5.1, 2.5, 3. , 1.1],\n",
       "        [5.6, 2.9, 3.6, 1.3]]),\n",
       " array([0, 0, 0, 0, 0, 0, 0, 0, 0, 0, 0, 0, 0, 0, 0, 0, 0, 0, 0, 0, 0, 0,\n",
       "        0, 0, 0, 0, 0, 0, 0, 0, 0, 0, 0, 0, 0, 0, 0, 0, 0, 0, 0, 0, 0, 0,\n",
       "        0, 0, 0, 0, 0, 0, 2, 2, 2, 2, 2, 2, 2, 1, 2, 2, 1, 2, 2, 2, 2, 2,\n",
       "        2, 2, 2, 2, 2, 2, 2, 2, 2, 2, 2, 2, 2, 2, 2, 2, 2, 2, 2, 2, 2, 2,\n",
       "        2, 2, 2, 2, 2, 1, 2, 2, 2, 2, 1, 2, 2, 2, 2, 2, 2, 2, 2, 2, 2, 2,\n",
       "        2, 2, 2, 2, 2, 2, 2, 2, 2, 2, 2, 2, 2, 2, 2, 2, 2, 2, 2, 2, 2, 2,\n",
       "        2, 2, 2, 2, 2, 2, 2, 2, 2, 2, 2, 2, 2, 2, 2, 2, 2, 2]))"
      ]
     },
     "execution_count": 65,
     "metadata": {},
     "output_type": "execute_result"
    }
   ],
   "source": [
    "results"
   ]
  },
  {
   "cell_type": "markdown",
   "metadata": {},
   "source": [
    "# Plotting final results"
   ]
  },
  {
   "cell_type": "code",
   "execution_count": 66,
   "metadata": {},
   "outputs": [
    {
     "data": {
      "text/plain": [
       "<matplotlib.collections.PathCollection at 0x7fa57c70b2d0>"
      ]
     },
     "execution_count": 66,
     "metadata": {},
     "output_type": "execute_result"
    },
    {
     "data": {
      "image/png": "[encoded data removed]",
      "text/plain": [
       "<Figure size 432x288 with 1 Axes>"
      ]
     },
     "metadata": {
      "needs_background": "light"
     },
     "output_type": "display_data"
    }
   ],
   "source": [
    "centers, labels = kmedoids(X, 3)\n",
    "legends = ['cluster1','cluster2','cluster3']\n",
    "\n",
    "#plotting the results\n",
    "for i in range(3):\n",
    "    plt.scatter(X[:, 0], X[:, 1], c=labels,label = legends[i],\n",
    "            s=50, cmap='viridis');\n",
    "plt.scatter(centers[:,0], centers[:,1], marker='*', c='g',label = 'Centroids', s=150)\n"
   ]
  }
 ],
 "metadata": {
  "kernelspec": {
   "display_name": "Python 3",
   "language": "python",
   "name": "python3"
  },
  "language_info": {
   "codemirror_mode": {
    "name": "ipython",
    "version": 3
   },
   "file_extension": ".py",
   "mimetype": "text/x-python",
   "name": "python",
   "nbconvert_exporter": "python",
   "pygments_lexer": "ipython3",
   "version": "3.8.1"
  }
 },
 "nbformat": 4,
 "nbformat_minor": 4
}
